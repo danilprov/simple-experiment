{
 "cells": [
  {
   "cell_type": "code",
   "id": "9dd0c80c-bede-4871-a93e-346c74301a24",
   "metadata": {
    "ExecuteTime": {
     "end_time": "2024-11-26T12:02:05.380591Z",
     "start_time": "2024-11-26T12:02:04.533161Z"
    }
   },
   "source": [
    "import numpy as np\n",
    "import torch.optim as optim\n",
    "from torch.autograd import Variable\n",
    "import torch\n",
    "import torch.nn as nn\n",
    "from tqdm import tqdm\n",
    "import matplotlib.pyplot as plt"
   ],
   "outputs": [],
   "execution_count": 1
  },
  {
   "cell_type": "markdown",
   "id": "d01653f5-abc0-4d3c-9a8b-952cc0de377a",
   "metadata": {},
   "source": [
    "## Synthetic experiment\n",
    "\n",
    "**Clean labels as oracle.** I sample triplets $(x_i, z_i, y_i)$ from:\n",
    "\n",
    "\\begin{align*}\n",
    "  x_i       &\\sim \\mathcal{N}(0,I_d)\\\\\n",
    "  \\varepsilon_i &\\sim \\mathcal{N}(0,1)\\\\\n",
    "  z_i &\\leftarrow \\langle \\alpha, x_i \\rangle + \\varepsilon_i\\\\ \n",
    "  y_i       &\\leftarrow \\mathbb{I}(z_i  > 0).\n",
    "\\end{align*}\n"
   ]
  },
  {
   "cell_type": "code",
   "id": "f31a3dfe-22ef-45fd-961d-bb80ddb0e13f",
   "metadata": {
    "ExecuteTime": {
     "end_time": "2024-11-26T12:02:05.386032Z",
     "start_time": "2024-11-26T12:02:05.384158Z"
    }
   },
   "source": [
    "def synthetic_01(a, n):\n",
    "    \"\"\"\n",
    "    Data generating process as outlined above.\n",
    "    \n",
    "    :param a: design coefficients alpha \n",
    "    :param n: number of samples\n",
    "    :return: (z, x, y)-tuple\n",
    "    \"\"\"\n",
    "    x  = np.random.randn(n, a.size)\n",
    "    e  = (np.random.randn(n))[:, np.newaxis]\n",
    "    z = np.dot(x, a)[:, np.newaxis] + e\n",
    "    #y  = ((z + e) > 0).ravel()\n",
    "    y  = (z > 0).ravel()\n",
    "    return (z, x, y)"
   ],
   "outputs": [],
   "execution_count": 2
  },
  {
   "cell_type": "code",
   "id": "74252470-be38-43d3-aa91-ace041174a90",
   "metadata": {
    "ExecuteTime": {
     "end_time": "2024-11-26T12:02:05.419987Z",
     "start_time": "2024-11-26T12:02:05.417930Z"
    }
   },
   "source": [
    "# SimpleNN will serve us as linear and logistic regression (depending on the loss function)\n",
    "class SimpleNN(nn.Module):\n",
    "    def __init__(self, d, q):\n",
    "        super(SimpleNN, self).__init__()\n",
    "        self.fc = nn.Sequential(\n",
    "            nn.Linear(d, q),\n",
    "        )\n",
    "\n",
    "    def forward(self, x):\n",
    "        return self.fc(x)\n",
    "\n",
    "def fit_model(model, optimizer, criterion, epochs, x, y):\n",
    "    for epoch in range(epochs):\n",
    "        logits = model(x)\n",
    "        loss = criterion(logits, y)\n",
    "        optimizer.zero_grad()\n",
    "        loss.backward()\n",
    "        optimizer.step()\n",
    "    return model"
   ],
   "outputs": [],
   "execution_count": 3
  },
  {
   "cell_type": "code",
   "id": "bbec1a14-ff4f-4962-80a8-e0a8411f30db",
   "metadata": {
    "ExecuteTime": {
     "end_time": "2024-11-26T12:02:05.426020Z",
     "start_time": "2024-11-26T12:02:05.423071Z"
    }
   },
   "source": [
    "def do_exp(x_tr, z_tr, y_tr, x_te, z_te, y_te):\n",
    "    \"\"\"\n",
    "    Run experiment for two models:\n",
    "    1. Classical model that fits f: x -> y\n",
    "    2. z-augmented model that fits f: x -> z and then uses the structural knowledge to reconstruct y from z \n",
    "    \n",
    "    :input: train data x_tr, z_tr, y_tr, x_te, z_te, y_te\n",
    "    :return: np.array([res_xy, res_xz]) - accuracies of models 1 and 2\n",
    "    \"\"\"\n",
    "    l_r=0.01\n",
    "    epochs=1000\n",
    "\n",
    "    y_tr = y_tr * 1.0\n",
    "    y_te = y_te * 1.0\n",
    "    y_tr = np.vstack((y_tr==1, y_tr==0)).T\n",
    "    y_te = np.vstack((y_te==1, y_te==0)).T\n",
    "    x_tr = Variable(torch.from_numpy(x_tr)).type(torch.FloatTensor)\n",
    "    x_te = Variable(torch.from_numpy(x_te)).type(torch.FloatTensor)\n",
    "    y_tr = Variable(torch.from_numpy(y_tr)).type(torch.FloatTensor)\n",
    "    z_tr = Variable(torch.from_numpy(z_tr)).type(torch.FloatTensor)\n",
    "    \n",
    "    \"\"\"\n",
    "    Training of regular model x -> y\n",
    "    \"\"\"\n",
    "    mlp_xy = SimpleNN(x_tr.shape[1], 2)\n",
    "    optimizer = optim.SGD(mlp_xy.parameters(),lr=l_r)\n",
    "    criterion = nn.CrossEntropyLoss()\n",
    "    \n",
    "    mlp_xy = fit_model(mlp_xy, optimizer, criterion, epochs, x_tr, y_tr)\n",
    "    output = mlp_xy(x_te)\n",
    "    pred = torch.argmax(output,dim=1)\n",
    "    res_xy= np.mean(pred.numpy() == np.argmax(y_te, 1))\n",
    "\n",
    "    \"\"\"\n",
    "    Training of z-augmented model x -> z and reconstructing y\n",
    "    \"\"\"\n",
    "    mlp_xz = SimpleNN(x_tr.shape[1], 1)\n",
    "    optimizer = optim.SGD(mlp_xz.parameters(), lr=l_r)\n",
    "    criterion = torch.nn.MSELoss()\n",
    "    \n",
    "    mlp_xz = fit_model(mlp_xz, optimizer, criterion, epochs, x_tr, z_tr)\n",
    "    output = mlp_xz(x_te)\n",
    "    # here is where we use the knowledge y = I{z > 0}\n",
    "    pred = torch.where(output.squeeze() > 0, 0, 1)\n",
    "    res_xz = np.mean(pred.numpy() == np.argmax(y_te, 1))\n",
    "\n",
    "    return np.array([res_xy, res_xz])"
   ],
   "outputs": [],
   "execution_count": 4
  },
  {
   "cell_type": "code",
   "id": "065624d0-4a1d-4648-bb68-5d53494f0568",
   "metadata": {
    "ExecuteTime": {
     "end_time": "2024-11-26T12:02:39.600878Z",
     "start_time": "2024-11-26T12:02:05.430983Z"
    }
   },
   "source": [
    "# experiment hyper-parameters\n",
    "d      = 50   # num features\n",
    "n_te   = 1000 # num test samples\n",
    "n_reps = 30   # num repetitions\n",
    "\n",
    "results = {}\n",
    "print(\"Training_size\\tx->y\\tx->z\")\n",
    "mean_results = {\n",
    "    \"Training size\": [],\n",
    "    \"x->y\": [],\n",
    "    \"x->z\": []\n",
    "}\n",
    "std_results = {\n",
    "    \"Training size\": [],\n",
    "    \"x->y\": [],\n",
    "    \"x->z\": []\n",
    "}\n",
    "\n",
    "for n_tr in [200, 500, 1000, 2000, 5000]:\n",
    "    np.random.seed(0)\n",
    "    R = np.zeros((n_reps, 2))\n",
    "    for rep in tqdm(range(n_reps)):\n",
    "        # generate test and train data\n",
    "        a = np.random.randn(50)\n",
    "        (z_tr, x_tr, y_tr) = synthetic_01(a, n=n_tr)\n",
    "        (z_te, x_te, y_te) = synthetic_01(a, n=n_te)\n",
    "        # run experiment\n",
    "        R[rep, :] += do_exp(x_tr, z_tr, y_tr, x_te, z_te, y_te)\n",
    "    # store results\n",
    "    means = R.mean(axis=0).round(2)\n",
    "    stds  = R.std(axis=0).round(2)\n",
    "    print(f\"{n_tr}\\t\\t{means[0]}(+/-{stds[0]})\\t{means[1]}(+/-{stds[1]})\")\n",
    "    \n",
    "    mean_results[\"Training size\"].append(n_tr)\n",
    "    mean_results[\"x->y\"].append(means[0])\n",
    "    mean_results[\"x->z\"].append(means[1])\n",
    "\n",
    "    std_results[\"Training size\"].append(n_tr)\n",
    "    std_results[\"x->y\"].append(stds[0])\n",
    "    std_results[\"x->z\"].append(stds[1])"
   ],
   "outputs": [
    {
     "name": "stdout",
     "output_type": "stream",
     "text": [
      "Training_size\tx->y\tx->z\n"
     ]
    },
    {
     "name": "stderr",
     "output_type": "stream",
     "text": [
      "100%|██████████| 30/30 [00:04<00:00,  6.33it/s]\n"
     ]
    },
    {
     "name": "stdout",
     "output_type": "stream",
     "text": [
      "200\t\t0.87(+/-0.02)\t0.95(+/-0.01)\n"
     ]
    },
    {
     "name": "stderr",
     "output_type": "stream",
     "text": [
      "100%|██████████| 30/30 [00:04<00:00,  6.22it/s]\n"
     ]
    },
    {
     "name": "stdout",
     "output_type": "stream",
     "text": [
      "500\t\t0.91(+/-0.02)\t0.95(+/-0.01)\n"
     ]
    },
    {
     "name": "stderr",
     "output_type": "stream",
     "text": [
      "100%|██████████| 30/30 [00:05<00:00,  5.30it/s]\n"
     ]
    },
    {
     "name": "stdout",
     "output_type": "stream",
     "text": [
      "1000\t\t0.93(+/-0.01)\t0.95(+/-0.01)\n"
     ]
    },
    {
     "name": "stderr",
     "output_type": "stream",
     "text": [
      "100%|██████████| 30/30 [00:06<00:00,  4.29it/s]\n"
     ]
    },
    {
     "name": "stdout",
     "output_type": "stream",
     "text": [
      "2000\t\t0.94(+/-0.01)\t0.96(+/-0.01)\n"
     ]
    },
    {
     "name": "stderr",
     "output_type": "stream",
     "text": [
      "100%|██████████| 30/30 [00:11<00:00,  2.52it/s]"
     ]
    },
    {
     "name": "stdout",
     "output_type": "stream",
     "text": [
      "5000\t\t0.95(+/-0.01)\t0.96(+/-0.01)\n"
     ]
    },
    {
     "name": "stderr",
     "output_type": "stream",
     "text": [
      "\n"
     ]
    }
   ],
   "execution_count": 5
  },
  {
   "cell_type": "code",
   "id": "c2a13c11-85a5-4593-88b4-a9a50339e0ae",
   "metadata": {
    "ExecuteTime": {
     "end_time": "2024-11-26T12:03:08.541768Z",
     "start_time": "2024-11-26T12:03:08.452655Z"
    }
   },
   "source": [
    "plt.figure(figsize=(10, 6))\n",
    "train_sizes = mean_results['Training size']\n",
    "model1_means = mean_results['x->y']\n",
    "model2_means = mean_results['x->z']\n",
    "\n",
    "model1_stds = std_results['x->y']\n",
    "model2_stds = std_results['x->z']\n",
    "\n",
    "plt.figure(figsize=(5, 3))\n",
    "plt.errorbar(train_sizes, model1_means, yerr=model1_stds, fmt='-o', label='classical x -> y', capsize=5)\n",
    "plt.errorbar(train_sizes, model2_means, yerr=model2_stds, fmt='-s', label='z-augmented', capsize=5)\n",
    "\n",
    "plt.xlabel('Training Size')\n",
    "plt.ylabel('Test accuracy')\n",
    "plt.title('Model Performance Across Training Sizes')\n",
    "plt.legend(loc='lower right')\n",
    "\n",
    "plt.grid(alpha=0.3)\n",
    "plt.tight_layout()\n",
    "plt.savefig('acc_vs_trainsize.png', bbox_inches='tight')\n",
    "plt.show()\n"
   ],
   "outputs": [
    {
     "data": {
      "text/plain": [
       "<Figure size 1000x600 with 0 Axes>"
      ]
     },
     "metadata": {},
     "output_type": "display_data"
    },
    {
     "data": {
      "text/plain": [
       "<Figure size 500x300 with 1 Axes>"
      ],
      "image/png": "[encoded data removed]"
     },
     "metadata": {},
     "output_type": "display_data"
    }
   ],
   "execution_count": 7
  }
 ],
 "metadata": {
  "kernelspec": {
   "display_name": "Python 3 (ipykernel)",
   "language": "python",
   "name": "python3"
  },
  "language_info": {
   "codemirror_mode": {
    "name": "ipython",
    "version": 3
   },
   "file_extension": ".py",
   "mimetype": "text/x-python",
   "name": "python",
   "nbconvert_exporter": "python",
   "pygments_lexer": "ipython3",
   "version": "3.9.0"
  }
 },
 "nbformat": 4,
 "nbformat_minor": 5
}
